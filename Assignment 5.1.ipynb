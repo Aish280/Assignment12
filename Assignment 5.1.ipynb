{
 "cells": [
  {
   "cell_type": "code",
   "execution_count": 2,
   "metadata": {},
   "outputs": [
    {
     "name": "stdout",
     "output_type": "stream",
     "text": [
      "293\n"
     ]
    }
   ],
   "source": [
    "# 1)python program to sum all the items in dictionary\n",
    "my_dict = {'data1':100,'data2':-54,'data3':247}\n",
    "print(sum(my_dict.values()))"
   ]
  },
  {
   "cell_type": "code",
   "execution_count": 4,
   "metadata": {},
   "outputs": [
    {
     "name": "stdout",
     "output_type": "stream",
     "text": [
      "Accessing a element using key:\n",
      "For\n",
      "Accessing a element using key:\n",
      "Geeks\n"
     ]
    }
   ],
   "source": [
    "# 2)Python program to demonstrate accessing a element from a Dictionary   \n",
    "Dict = {1: 'Geeks', 'name': 'For', 3: 'Geeks'}\n",
    "print(\"Accessing a element using key:\") \n",
    "print(Dict['name']) \n",
    "print(\"Accessing a element using key:\") \n",
    "print(Dict[1])"
   ]
  },
  {
   "cell_type": "code",
   "execution_count": 5,
   "metadata": {},
   "outputs": [
    {
     "name": "stdout",
     "output_type": "stream",
     "text": [
      "Final dictionary after concatenation :  {'One': 1, 'Two': 2, 'Three': 3, 'Four': 4, 'Five': 5, 'Six': 6, 'Seven': 7, 'Eight': 8, 'Nine': 9, 'Ten': 10}\n"
     ]
    }
   ],
   "source": [
    "# 3)python program to concate two dictionaries\n",
    "dict_first = {'One':1, 'Two':2, 'Three':3, 'Four':4, 'Five':5}\n",
    "dict_second = {'Six':6, 'Seven':7, 'Eight':8, 'Nine':9, 'Ten':10}\n",
    "dict_first.update(dict_second)\n",
    "print(\"Final dictionary after concatenation : \",dict_first)"
   ]
  },
  {
   "cell_type": "code",
   "execution_count": 9,
   "metadata": {},
   "outputs": [
    {
     "name": "stdout",
     "output_type": "stream",
     "text": [
      "Current Dict is:  {'key1': 'geeks', 'key2': 'for'}\n",
      "{'key1': 'geeks', 'key2': 'for', 'key3': 'geeks', 'key4': 'is', 'key5': 'fabulous'}\n"
     ]
    }
   ],
   "source": [
    "# 4)python program to add keys/values in a dictionary(update dictionary)\n",
    "dict = {'key1':'geeks', 'key2':'for'}  \n",
    "print(\"Current Dict is: \", dict)    \n",
    "dict1 = {'key3':'geeks', 'key4':'is', 'key5':'fabulous'}  \n",
    "dict.update(dict1) \n",
    "print(dict)  "
   ]
  },
  {
   "cell_type": "code",
   "execution_count": 6,
   "metadata": {},
   "outputs": [
    {
     "name": "stdout",
     "output_type": "stream",
     "text": [
      "len() method : 3\n",
      "len() method with keys() : 3\n",
      "len() method with values(): 3\n"
     ]
    }
   ],
   "source": [
    "# 5)Python program to find length of the dictionary  \n",
    "dict1 ={'Name':'Steve', 'Age':30, 'Designation':'Programmer'} \n",
    "print(\"len() method :\", len(dict1))  \n",
    "print(\"len() method with keys() :\", len(dict1.keys())) \n",
    "print(\"len() method with values():\", len(dict1.values()))"
   ]
  },
  {
   "cell_type": "code",
   "execution_count": 7,
   "metadata": {},
   "outputs": [
    {
     "name": "stdout",
     "output_type": "stream",
     "text": [
      "{'a': 1, 'b': 2, 'c': 3, 'd': 4}\n",
      "{'b': 2, 'c': 3, 'd': 4}\n"
     ]
    }
   ],
   "source": [
    "# 6)python program to remove items from the dictionary\n",
    "myDict = {'a':1,'b':2,'c':3,'d':4}\n",
    "print(myDict)\n",
    "if 'a' in myDict: \n",
    "    del myDict['a']\n",
    "print(myDict)"
   ]
  }
 ],
 "metadata": {
  "kernelspec": {
   "display_name": "Python 3",
   "language": "python",
   "name": "python3"
  },
  "language_info": {
   "codemirror_mode": {
    "name": "ipython",
    "version": 3
   },
   "file_extension": ".py",
   "mimetype": "text/x-python",
   "name": "python",
   "nbconvert_exporter": "python",
   "pygments_lexer": "ipython3",
   "version": "3.8.3"
  }
 },
 "nbformat": 4,
 "nbformat_minor": 4
}
